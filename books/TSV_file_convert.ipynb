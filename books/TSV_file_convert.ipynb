{
 "cells": [
  {
   "cell_type": "code",
   "execution_count": 1,
   "metadata": {},
   "outputs": [
    {
     "name": "stdout",
     "output_type": "stream",
     "text": [
      "Requirement already satisfied: tqdm in /usr/local/lib/python3.6/dist-packages (4.38.0)\r\n"
     ]
    }
   ],
   "source": [
    "!pip install tqdm"
   ]
  },
  {
   "cell_type": "code",
   "execution_count": 1,
   "metadata": {},
   "outputs": [],
   "source": [
    "import numpy as np\n",
    "import os\n",
    "from tqdm import tqdm"
   ]
  },
  {
   "cell_type": "markdown",
   "metadata": {},
   "source": [
    "## TSV file create"
   ]
  },
  {
   "cell_type": "markdown",
   "metadata": {},
   "source": [
    "### TSV define: A tab-separated values (TSV) file is a simple text format for storing data in a tabular structure\n",
    "\n",
    " Filename extension:  .tsv\n",
    " Internet media type: text/tab-separated-values"
   ]
  },
  {
   "cell_type": "markdown",
   "metadata": {},
   "source": [
    "## Story Name"
   ]
  },
  {
   "cell_type": "code",
   "execution_count": 2,
   "metadata": {},
   "outputs": [],
   "source": [
    "story_names = [\"ACaseOfIdentity_formatted_S2\",\n",
    "                 \"CrookedMan_formatted_S2\",\n",
    "                 \"DancingMen_formatted_S2\",\n",
    "                 \"DevilsFoot_formatted_S2\",\n",
    "                 \"SpeckledBand_formatted_S2\"]"
   ]
  },
  {
   "cell_type": "code",
   "execution_count": 3,
   "metadata": {},
   "outputs": [],
   "source": [
    "model_name = \"albert_xxlarge\"\n",
    "pattern = 'p1'"
   ]
  },
  {
   "cell_type": "code",
   "execution_count": 4,
   "metadata": {},
   "outputs": [],
   "source": [
    "class TabFileConvert:\n",
    "    \n",
    "    def __init__(self, file_base: str):\n",
    "        tsv_vector_file_name = file_base + \"-vector.tsv\"\n",
    "        tsv_label_file_name = file_base + \"-label.tsv\"\n",
    "\n",
    "        print(\"====> \" + model_file_name)\n",
    "        npz = np.load(model_file_name, allow_pickle=True)\n",
    "        x = npz['arr_0']\n",
    "        y = npz['arr_1']\n",
    "        print(x.shape)\n",
    "        print(y.shape)\n",
    "        \n",
    "        self._makeVector(tsv_vector_file_name, x)\n",
    "        self._makeLabel(tsv_label_file_name, y)\n",
    "        \n",
    "    def _makeVector(self,file_name, x):\n",
    "        f = open(file_name, 'w')\n",
    "        \n",
    "        lines = x.shape[0]\n",
    "        layers = x.shape[1]\n",
    "        cols = x.shape[2]\n",
    "\n",
    "        with tqdm(total=lines) as pbar:\n",
    "            for i in range(lines):\n",
    "                t = x[i]\n",
    "                r = []\n",
    "                for j in range(cols):\n",
    "                    r.append(str(t[layers - 1][j]))\n",
    "                record = '\\t'.join(r) + '\\n'\n",
    "                \n",
    "                #print(record)                \n",
    "                f.write(record)\n",
    "                pbar.update(1)\n",
    "        pbar.close()\n",
    "        f.close()\n",
    "        print('complete vector file save')\n",
    "\n",
    "    def _makeLabel(self,file_name, y):\n",
    "        f = open(file_name, 'w')\n",
    "        \n",
    "        lines = y.shape[0]\n",
    "        labels = y.shape[1] #comment for p3\n",
    "\n",
    "        with tqdm(total=lines) as pbar:\n",
    "            for i in range(lines):\n",
    "                t = y[i]\n",
    "                r = [] #comment for p3\n",
    "                for j in range(labels): #comment for p3\n",
    "                    r.append(str(t[j])) #comment for p3\n",
    "                record = ' '.join(r) + '\\n' #comment for p3\n",
    "                #uncomment for p3 record = str(t) + '\\n' \n",
    "                \n",
    "                #print(record)\n",
    "                f.write(record)\n",
    "                pbar.update(1)\n",
    "        pbar.close()\n",
    "        f.close()\n",
    "        print('complete label file save')\n"
   ]
  },
  {
   "cell_type": "markdown",
   "metadata": {},
   "source": [
    "## TEST"
   ]
  },
  {
   "cell_type": "markdown",
   "metadata": {},
   "source": [
    "base_file_name = story_names[0] + \"-\" + model_name + \"-\" + pattern\n",
    "model_file_name = base_file_name + \".npz\"\n",
    "TabFileConvert(base_file_name)"
   ]
  },
  {
   "cell_type": "code",
   "execution_count": 5,
   "metadata": {},
   "outputs": [
    {
     "name": "stdout",
     "output_type": "stream",
     "text": [
      "====> ACaseOfIdentity_formatted_S2-albert_xxlarge-p1.npz\n"
     ]
    },
    {
     "name": "stderr",
     "output_type": "stream",
     "text": [
      "  0%|          | 11/3701 [00:00<00:35, 104.29it/s]"
     ]
    },
    {
     "name": "stdout",
     "output_type": "stream",
     "text": [
      "(3701, 31, 4096)\n",
      "(3701, 3)\n"
     ]
    },
    {
     "name": "stderr",
     "output_type": "stream",
     "text": [
      "100%|██████████| 3701/3701 [00:27<00:00, 135.59it/s]\n",
      "100%|██████████| 3701/3701 [00:00<00:00, 41628.99it/s]\n"
     ]
    },
    {
     "name": "stdout",
     "output_type": "stream",
     "text": [
      "complete vector file save\n",
      "complete label file save\n",
      "====> CrookedMan_formatted_S2-albert_xxlarge-p1.npz\n"
     ]
    },
    {
     "name": "stderr",
     "output_type": "stream",
     "text": [
      "  0%|          | 9/2951 [00:00<00:35, 83.54it/s]"
     ]
    },
    {
     "name": "stdout",
     "output_type": "stream",
     "text": [
      "(2951, 45, 4096)\n",
      "(2951, 3)\n"
     ]
    },
    {
     "name": "stderr",
     "output_type": "stream",
     "text": [
      "100%|██████████| 2951/2951 [00:46<00:00, 62.92it/s] \n",
      "100%|██████████| 2951/2951 [00:00<00:00, 30102.05it/s]\n"
     ]
    },
    {
     "name": "stdout",
     "output_type": "stream",
     "text": [
      "complete vector file save\n",
      "complete label file save\n",
      "====> DancingMen_formatted_S2-albert_xxlarge-p1.npz\n"
     ]
    },
    {
     "name": "stderr",
     "output_type": "stream",
     "text": [
      "\r",
      "  0%|          | 0/1702 [00:00<?, ?it/s]"
     ]
    },
    {
     "name": "stdout",
     "output_type": "stream",
     "text": [
      "(1702, 38, 4096)\n",
      "(1702, 3)\n"
     ]
    },
    {
     "name": "stderr",
     "output_type": "stream",
     "text": [
      "100%|██████████| 1702/1702 [00:17<00:00, 97.18it/s] \n",
      "100%|██████████| 1702/1702 [00:00<00:00, 35594.40it/s]\n"
     ]
    },
    {
     "name": "stdout",
     "output_type": "stream",
     "text": [
      "complete vector file save\n",
      "complete label file save\n",
      "====> DevilsFoot_formatted_S2-albert_xxlarge-p1.npz\n"
     ]
    },
    {
     "name": "stderr",
     "output_type": "stream",
     "text": [
      "  0%|          | 14/3299 [00:00<00:24, 136.43it/s]"
     ]
    },
    {
     "name": "stdout",
     "output_type": "stream",
     "text": [
      "(3299, 32, 4096)\n",
      "(3299, 3)\n"
     ]
    },
    {
     "name": "stderr",
     "output_type": "stream",
     "text": [
      "100%|██████████| 3299/3299 [00:53<00:00, 62.19it/s] \n",
      "100%|██████████| 3299/3299 [00:00<00:00, 36899.58it/s]\n"
     ]
    },
    {
     "name": "stdout",
     "output_type": "stream",
     "text": [
      "complete vector file save\n",
      "complete label file save\n",
      "====> SpeckledBand_formatted_S2-albert_xxlarge-p1.npz\n"
     ]
    },
    {
     "name": "stderr",
     "output_type": "stream",
     "text": [
      "\r",
      "  0%|          | 0/11487 [00:00<?, ?it/s]"
     ]
    },
    {
     "name": "stdout",
     "output_type": "stream",
     "text": [
      "(11487, 53, 4096)\n",
      "(11487, 3)\n"
     ]
    },
    {
     "name": "stderr",
     "output_type": "stream",
     "text": [
      "100%|██████████| 11487/11487 [03:31<00:00, 54.19it/s]\n",
      "  8%|▊         | 923/11487 [00:00<00:01, 9229.59it/s]"
     ]
    },
    {
     "name": "stdout",
     "output_type": "stream",
     "text": [
      "complete vector file save\n"
     ]
    },
    {
     "name": "stderr",
     "output_type": "stream",
     "text": [
      "100%|██████████| 11487/11487 [00:01<00:00, 6956.24it/s]\n"
     ]
    },
    {
     "name": "stdout",
     "output_type": "stream",
     "text": [
      "complete label file save\n"
     ]
    }
   ],
   "source": [
    "for story_name in story_names:\n",
    "    base_file_name = story_name + \"-\" + model_name + \"-\" + pattern\n",
    "    model_file_name = base_file_name + \".npz\"\n",
    "    TabFileConvert(base_file_name)"
   ]
  },
  {
   "cell_type": "code",
   "execution_count": null,
   "metadata": {},
   "outputs": [],
   "source": []
  }
 ],
 "metadata": {
  "kernelspec": {
   "display_name": "Python 3",
   "language": "python",
   "name": "python3"
  },
  "language_info": {
   "codemirror_mode": {
    "name": "ipython",
    "version": 3
   },
   "file_extension": ".py",
   "mimetype": "text/x-python",
   "name": "python",
   "nbconvert_exporter": "python",
   "pygments_lexer": "ipython3",
   "version": "3.6.8"
  }
 },
 "nbformat": 4,
 "nbformat_minor": 2
}
