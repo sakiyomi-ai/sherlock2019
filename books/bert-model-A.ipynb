{
 "cells": [
  {
   "cell_type": "markdown",
   "metadata": {},
   "source": [
    "# Bert Model A"
   ]
  },
  {
   "cell_type": "markdown",
   "metadata": {},
   "source": [
    "## ライブラリロード"
   ]
  },
  {
   "cell_type": "code",
   "execution_count": 1,
   "metadata": {},
   "outputs": [
    {
     "name": "stdout",
     "output_type": "stream",
     "text": [
      "Requirement already satisfied: sentencepiece in /usr/local/lib/python3.6/dist-packages (0.1.83)\n",
      "Requirement already satisfied: pandas in /usr/local/lib/python3.6/dist-packages (0.25.3)\n",
      "Requirement already satisfied: pytz>=2017.2 in /usr/local/lib/python3.6/dist-packages (from pandas) (2019.3)\n",
      "Requirement already satisfied: python-dateutil>=2.6.1 in /usr/local/lib/python3.6/dist-packages (from pandas) (2.8.0)\n",
      "Requirement already satisfied: numpy>=1.13.3 in /usr/local/lib/python3.6/dist-packages (from pandas) (1.17.2)\n",
      "Requirement already satisfied: six>=1.5 in /usr/lib/python3/dist-packages (from python-dateutil>=2.6.1->pandas) (1.11.0)\n"
     ]
    }
   ],
   "source": [
    "!pip install sentencepiece\n",
    "!pip install pandas"
   ]
  },
  {
   "cell_type": "code",
   "execution_count": 2,
   "metadata": {},
   "outputs": [],
   "source": [
    "import bert\n",
    "from bert import BertModelLayer\n",
    "from bert.loader import StockBertConfig, map_stock_config_to_params, load_stock_weights\n",
    "from bert import albert_tokenization\n",
    "import tensorflow as tf\n",
    "from tqdm import tqdm\n",
    "import pandas as pd\n",
    "import numpy as np\n",
    "import os\n",
    "from tensorflow import keras\n",
    "import pprint\n",
    "import sentencepiece as spm"
   ]
  },
  {
   "cell_type": "markdown",
   "metadata": {},
   "source": [
    "## Story Name"
   ]
  },
  {
   "cell_type": "code",
   "execution_count": 3,
   "metadata": {},
   "outputs": [],
   "source": [
    "story_names = [\"ACaseOfIdentity_formatted_S2\",\n",
    "                 \"CrookedMan_formatted_S2\",\n",
    "                 \"DancingMen_formatted_S2\",\n",
    "                 \"DevilsFoot_formatted_S2\",\n",
    "                 \"SpeckledBand_formatted_S2\"]"
   ]
  },
  {
   "cell_type": "markdown",
   "metadata": {},
   "source": [
    "# Vocab.txt作成"
   ]
  },
  {
   "cell_type": "markdown",
   "metadata": {},
   "source": [
    "vocab_file = \"./vocab.txt\"\n",
    "\n",
    "words = {}\n",
    "for story_name in story_names:\n",
    "    data_file_name = story_name + \".txt\"\n",
    "\n",
    "    with open(data_file_name, \"r\") as f:\n",
    "        for line in f:\n",
    "            line = line.replace(\".\",\"\")\n",
    "            tokens = line.rstrip(\"\\n\").split(\",\")\n",
    "            for token in tokens:\n",
    "                for key in token.split(\" \"):\n",
    "                    val = words.get(key)\n",
    "                    if (val == None):\n",
    "                        words[key] = 1\n",
    "                    else:\n",
    "                        words[key] = val + 1\n",
    "\n",
    "with open(vocab_file, \"w\") as f:\n",
    "    f.write(\"[PAD]\\n\")\n",
    "    f.write(\"[UNK]\\n\")\n",
    "    f.write(\"[CLS]\\n\")\n",
    "    f.write(\"[SEP]\\n\")\n",
    "    f.write(\"[MASK]\\n\")\n",
    "\n",
    "    for key in words:\n",
    "        f.write(key)\n",
    "        f.write(\"\\n\")\n",
    "\n",
    "#print(words)"
   ]
  },
  {
   "cell_type": "markdown",
   "metadata": {},
   "source": [
    "## Preparing the Data"
   ]
  },
  {
   "cell_type": "code",
   "execution_count": 5,
   "metadata": {},
   "outputs": [],
   "source": [
    "class SherlockModelData:\n",
    "    \n",
    "    def __init__(self, sp: spm.SentencePieceProcessor, data_file_name:str, pattern:str, sample_size=None, lower:bool=True):\n",
    "        self.sp = sp\n",
    "        self.sample_size = sample_size\n",
    "        self.max_seq_len = 0\n",
    "        self.lower = lower\n",
    "        \n",
    "        if pattern == 'p3':\n",
    "            (t, self.label) = self._prepareP3(self._load_data(data_file_name))\n",
    "            (self.train, self.train_type) = self._pad(t)\n",
    "        elif pattern == 'p2':\n",
    "            (t, self.label) = self._prepareP2(self._load_data(data_file_name))\n",
    "            (self.train, self.train_type) = self._pad(t)\n",
    "        else:\n",
    "            (t, self.label) = self._prepareP1(self._load_data(data_file_name))\n",
    "            (self.train, self.train_type) = self._pad(t)\n",
    "        \n",
    "    def _load_data(self, data_file_name:str):\n",
    "        x = {}\n",
    "        f = open(data_file_name, \"r\")\n",
    "        for line in f:\n",
    "            line = line.replace(\".\",\"\")\n",
    "            tokens = line.rstrip(\"\\n\").split(\",\")\n",
    "            key = tokens[0]\n",
    "            val = x.get(key)\n",
    "            if (val == None):\n",
    "                x[key] = [tokens]\n",
    "            else:\n",
    "                val.append(tokens)\n",
    "        f.close()\n",
    "        return x\n",
    "\n",
    "    def _prepareP3(self,data):\n",
    "        x, y = [], []\n",
    "        for key in data:\n",
    "            tokens = [\"[CLS]\"]\n",
    "            sentence = []\n",
    "            \n",
    "            w = bert.albert_tokenization.preprocess_text(key, lower=self.lower)\n",
    "            tokens.append(w)\n",
    "            sentence.append(key)\n",
    "            for line in data[key]:\n",
    "                tokens.append(\"[SEP]\")\n",
    "                w = bert.albert_tokenization.preprocess_text(line[1].lower() + \" \" + line[2], lower=self.lower)\n",
    "                tokens.append(w)\n",
    "                sentence.append(line[1].lower())\n",
    "                sentence.append(line[2])\n",
    "            tokens.append(\"[SEP]\")\n",
    "    \n",
    "            #print(''.join(tokens))\n",
    "            token_ids = bert.albert_tokenization.encode_ids(self.sp, ''.join(tokens))\n",
    "            #print(token_ids)\n",
    "            self.max_seq_len = max(self.max_seq_len, len(token_ids))\n",
    "            x.append(token_ids)\n",
    "            y.append(np.array(sentence))\n",
    "        return np.array(x), np.array(y)\n",
    "\n",
    "    def _prepareP2(self,data):\n",
    "        x, y = [], []\n",
    "        for key in data:\n",
    "            for line in data[key]:\n",
    "                tokens = [\"[CLS]\"]\n",
    "                w = bert.albert_tokenization.preprocess_text(key, lower=self.lower)\n",
    "                tokens.append(w)\n",
    "                tokens.append(\"[SEP]\")\n",
    "                w = bert.albert_tokenization.preprocess_text(line[1].lower(), lower=self.lower)\n",
    "                tokens.append(w)                \n",
    "                tokens.append(\"[SEP]\")\n",
    "                w = bert.albert_tokenization.preprocess_text(line[2], lower=self.lower)\n",
    "                tokens.append(w)\n",
    "                tokens.append(\"[SEP]\")\n",
    "\n",
    "                sentence = []\n",
    "                sentence.append(key)\n",
    "                sentence.append(line[1].lower())\n",
    "                sentence.append(line[2])\n",
    "\n",
    "                #print(''.join(tokens))\n",
    "                token_ids = bert.albert_tokenization.encode_ids(self.sp, ''.join(tokens))\n",
    "                #print(token_ids)\n",
    "                self.max_seq_len = max(self.max_seq_len, len(token_ids))\n",
    "                x.append(token_ids)\n",
    "                y.append(np.array(sentence))\n",
    "        return np.array(x), np.array(y)\n",
    "\n",
    "    \n",
    "    def _prepareP1(self,data):\n",
    "        x, y = [], []\n",
    "        for key in data:\n",
    "            for line in data[key]:\n",
    "                tokens = [\"[CLS]\"]\n",
    "                w = bert.albert_tokenization.preprocess_text(key, lower=self.lower)\n",
    "                tokens.append(w)                \n",
    "                tokens.append(\"[SEP]\")\n",
    "                w = bert.albert_tokenization.preprocess_text(line[1].lower() + \" \" + line[2], lower=self.lower)\n",
    "                tokens.append(w)\n",
    "                tokens.append(\"[SEP]\")\n",
    "\n",
    "                sentence = []\n",
    "                sentence.append(key)\n",
    "                sentence.append(line[1].lower())\n",
    "                sentence.append(line[2])\n",
    "\n",
    "                #print(''.join(tokens))\n",
    "                token_ids = bert.albert_tokenization.encode_ids(self.sp, ''.join(tokens))\n",
    "                #print(token_ids)\n",
    "                self.max_seq_len = max(self.max_seq_len, len(token_ids))\n",
    "                x.append(token_ids)\n",
    "                y.append(np.array(sentence))\n",
    "        return np.array(x), np.array(y)\n",
    "        \n",
    "    def _pad(self, ids):\n",
    "        x, t = [], []\n",
    "        token_type_ids = [0] * self.max_seq_len\n",
    "        for input_ids in ids:\n",
    "            input_ids = input_ids[:min(len(input_ids), self.max_seq_len - 2)]\n",
    "            input_ids = input_ids + [0] * (self.max_seq_len - len(input_ids))\n",
    "            x.append(np.array(input_ids))\n",
    "            t.append(token_type_ids)\n",
    "        return np.array(x), np.array(t)\n"
   ]
  },
  {
   "cell_type": "markdown",
   "metadata": {},
   "source": [
    "# BERT モデル"
   ]
  },
  {
   "cell_type": "markdown",
   "metadata": {},
   "source": [
    "bert_model_dir   = \"2018_10_18\"\n",
    "bert_ckpt_dir    = bert_model_dir + \"/cased_L-24_H-1024_A-16\"\n",
    "bert_ckpt_file   = os.path.join(bert_ckpt_dir, \"bert_model.ckpt\")\n",
    "bert_config_file = os.path.join(bert_ckpt_dir, \"bert_config.json\")\n",
    "bert_model_name  = os.path.basename(os.path.dirname(bert_ckpt_file))\n",
    "\n",
    "print(bert_model_name)"
   ]
  },
  {
   "cell_type": "markdown",
   "metadata": {},
   "source": [
    "## BERT TEST"
   ]
  },
  {
   "cell_type": "markdown",
   "metadata": {},
   "source": [
    "tokenizer = bert_tokenization.FullTokenizer(vocab_file=vocab_file)\n",
    "bert_params = bert.params_from_pretrained_ckpt(bert_ckpt_dir)\n",
    "l_bert = bert.BertModelLayer.from_params(bert_params, name=\"bert\")"
   ]
  },
  {
   "cell_type": "markdown",
   "metadata": {},
   "source": [
    "story_name = \"ACaseOfIdentity_formatted_S2\"\n",
    "pattern='p3'\n",
    "model_file_name = story_name + \"-bert-\" + pattern + \".npz\"\n",
    "data_file_name = story_name + \".txt\"\n",
    "modelData = SherlockModelData(tokenizer=tokenizer,data_file_name=data_file_name,pattern=pattern)\n",
    "print(modelData.label)"
   ]
  },
  {
   "cell_type": "markdown",
   "metadata": {},
   "source": [
    "l_input_ids = keras.layers.Input(shape=(modelData.max_seq_len,), dtype='int32')\n",
    "output = l_bert(l_input_ids)                              # output: [batch_size, max_seq_len, hidden_size]\n",
    "model = keras.Model(inputs=l_input_ids, outputs=output)\n",
    "model.build(input_shape=(None, modelData.max_seq_len))\n",
    "bert.load_bert_weights(l_bert, bert_ckpt_file)\n",
    "model.summary()"
   ]
  },
  {
   "cell_type": "markdown",
   "metadata": {},
   "source": [
    "vector = model.predict(modelData.train)"
   ]
  },
  {
   "cell_type": "markdown",
   "metadata": {},
   "source": [
    "print(vector.shape)\n",
    "np.savez(model_file_name,vector,modelData.label)\n",
    "npz = np.load(model_file_name,allow_pickle=True)\n",
    "print(npz['arr_0'])\n",
    "print(npz['arr_1'])"
   ]
  },
  {
   "cell_type": "markdown",
   "metadata": {},
   "source": [
    "# BERT ベクトルデータ生成"
   ]
  },
  {
   "cell_type": "markdown",
   "metadata": {
    "scrolled": true
   },
   "source": [
    "pattern = 'p3'\n",
    "for story_name in story_names:\n",
    "    model_file_name = story_name + \"-bert-\" + pattern + \".npz\"\n",
    "    data_file_name = story_name + \".txt\"\n",
    "\n",
    "    print(\"================>\" + story_name)\n",
    "    tokenizer = bert_tokenization.FullTokenizer(vocab_file=vocab_file)\n",
    "    bert_params = bert.params_from_pretrained_ckpt(bert_ckpt_dir)\n",
    "    l_bert = bert.BertModelLayer.from_params(bert_params, name=\"bert\")\n",
    "    modelData = SherlockModelData(tokenizer=tokenizer,data_file_name=data_file_name, pattern=pattern)\n",
    "\n",
    "    print(modelData.train)\n",
    "    l_input_ids = keras.layers.Input(shape=(modelData.max_seq_len,), dtype='int32')\n",
    "    output = l_bert(l_input_ids)\n",
    "    model = keras.Model(inputs=l_input_ids, outputs=output)\n",
    "    model.build(input_shape=(None, modelData.max_seq_len))\n",
    "    bert.load_bert_weights(l_bert, bert_ckpt_file)\n",
    "    model.summary()\n",
    "    \n",
    "    vector = model.predict(modelData.train)\n",
    "    np.savez(model_file_name,vector,modelData.label)\n",
    "    npz = np.load(model_file_name,allow_pickle=True)\n",
    "    print(npz['arr_0'])\n",
    "    print(npz['arr_1'])"
   ]
  },
  {
   "cell_type": "markdown",
   "metadata": {},
   "source": [
    "# ALBERT MODEL"
   ]
  },
  {
   "cell_type": "code",
   "execution_count": 6,
   "metadata": {},
   "outputs": [
    {
     "name": "stdout",
     "output_type": "stream",
     "text": [
      "Fetching ALBERT model: albert_xxlarge version: 2\n",
      "Already  fetched:  albert_xxlarge.tar.gz\n",
      "already unpacked at: .models/albert_xxlarge\n",
      ".models/albert_xxlarge\n"
     ]
    }
   ],
   "source": [
    "model_name = \"albert_xxlarge\"\n",
    "bert_ckpt_dir = bert.fetch_tfhub_albert_model(model_name, \".models\")\n",
    "print(bert_ckpt_dir)"
   ]
  },
  {
   "cell_type": "markdown",
   "metadata": {},
   "source": [
    "## ALBERT TEST"
   ]
  },
  {
   "cell_type": "markdown",
   "metadata": {},
   "source": [
    "spm_model = os.path.join(bert_ckpt_dir, \"assets\", \"30k-clean.model\")\n",
    "sp = spm.SentencePieceProcessor()\n",
    "sp.load(spm_model)\n",
    "do_lower_case = True"
   ]
  },
  {
   "cell_type": "markdown",
   "metadata": {},
   "source": [
    "story_name = \"ACaseOfIdentity_formatted_S2\"\n",
    "pattern='p1'\n",
    "data_file_name = story_name + \".txt\"\n",
    "modelData = SherlockModelData(sp=sp,data_file_name=data_file_name,pattern=pattern,lower=do_lower_case)"
   ]
  },
  {
   "cell_type": "markdown",
   "metadata": {},
   "source": [
    "model_file_name = story_name + \"-\" + model_name + \"-\" + pattern + \".npz\"\n",
    "model_params = bert.albert_params(model_name)\n",
    "l_bert = bert.BertModelLayer.from_params(model_params, name=\"albert\")\n",
    "\n",
    "l_input_ids = keras.layers.Input(shape=(modelData.max_seq_len,), dtype='int32')\n",
    "output = l_bert(l_input_ids)                              # output: [batch_size, max_seq_len, hidden_size]\n",
    "model = keras.Model(inputs=l_input_ids, outputs=output)\n",
    "model.build(input_shape=(None, modelData.max_seq_len))\n",
    "bert.load_albert_weights(l_bert, bert_ckpt_dir)\n",
    "model.summary()"
   ]
  },
  {
   "cell_type": "markdown",
   "metadata": {},
   "source": [
    "vector = model.predict(modelData.train)"
   ]
  },
  {
   "cell_type": "markdown",
   "metadata": {},
   "source": [
    "print(vector.shape)\n",
    "np.savez(model_file_name,vector,modelData.label)\n",
    "npz = np.load(model_file_name,allow_pickle=True)\n",
    "print(npz['arr_0'])\n",
    "print(npz['arr_1'])"
   ]
  },
  {
   "cell_type": "code",
   "execution_count": 7,
   "metadata": {},
   "outputs": [
    {
     "name": "stdout",
     "output_type": "stream",
     "text": [
      "================> SpeckledBand_formatted_S2\n",
      "[[636   1 500 ...   0   0   0]\n",
      " [636   1 500 ...   0   0   0]\n",
      " [636   1 500 ...   0   0   0]\n",
      " ...\n",
      " [636   1 500 ...   0   0   0]\n",
      " [636   1 500 ...   0   0   0]\n",
      " [636   1 500 ...   0   0   0]]\n",
      "WARNING:tensorflow:From /usr/local/lib/python3.6/dist-packages/tensorflow_core/python/ops/resource_variable_ops.py:1781: calling BaseResourceVariable.__init__ (from tensorflow.python.ops.resource_variable_ops) with constraint is deprecated and will be removed in a future version.\n",
      "Instructions for updating:\n",
      "If using Keras pass *_constraint arguments to layers.\n",
      "Done loading 22 BERT weights from: .models/albert_xxlarge into <bert.model.BertModelLayer object at 0x7f05a8fe7a90> (prefix:albert). Count of weights not found in the checkpoint was: [0]. Count of weights with mismatched shape: [0]\n",
      "Unused weights from saved model: \n",
      "\tbert/embeddings/token_type_embeddings\n",
      "\tbert/pooler/dense/bias\n",
      "\tbert/pooler/dense/kernel\n",
      "\tcls/predictions/output_bias\n",
      "\tcls/predictions/transform/LayerNorm/beta\n",
      "\tcls/predictions/transform/LayerNorm/gamma\n",
      "\tcls/predictions/transform/dense/bias\n",
      "\tcls/predictions/transform/dense/kernel\n",
      "Model: \"model\"\n",
      "_________________________________________________________________\n",
      "Layer (type)                 Output Shape              Param #   \n",
      "=================================================================\n",
      "input_1 (InputLayer)         [(None, 53)]              0         \n",
      "_________________________________________________________________\n",
      "albert (BertModelLayer)      (None, 53, 4096)          205814016 \n",
      "=================================================================\n",
      "Total params: 205,814,016\n",
      "Trainable params: 205,814,016\n",
      "Non-trainable params: 0\n",
      "_________________________________________________________________\n"
     ]
    }
   ],
   "source": [
    "pattern = 'p2'\n",
    "for story_name in story_names:\n",
    "    model_file_name = story_name + \"-\" + model_name + \"-\" + pattern + \".npz\"\n",
    "    data_file_name = story_name + \".txt\"\n",
    "    \n",
    "    print(\"================> \" + story_name)\n",
    "\n",
    "    spm_model = os.path.join(bert_ckpt_dir, \"assets\", \"30k-clean.model\")\n",
    "    sp = spm.SentencePieceProcessor()\n",
    "    sp.load(spm_model)\n",
    "    do_lower_case = True\n",
    "\n",
    "    modelData = SherlockModelData(sp=sp,data_file_name=data_file_name, pattern=pattern,lower=do_lower_case)\n",
    "    print(modelData.train)\n",
    "    \n",
    "    model_params = bert.albert_params(model_name)\n",
    "    l_bert = bert.BertModelLayer.from_params(model_params, name=\"albert\")\n",
    "    l_input_ids = keras.layers.Input(shape=(modelData.max_seq_len,), dtype='int32')\n",
    "    output = l_bert(l_input_ids)\n",
    "    model = keras.Model(inputs=l_input_ids, outputs=output)\n",
    "    model.build(input_shape=(None, modelData.max_seq_len))\n",
    "    bert.load_albert_weights(l_bert, bert_ckpt_dir)\n",
    "    model.summary()\n",
    "    \n",
    "    vector = model.predict(modelData.train)\n",
    "    np.savez(model_file_name,vector,modelData.label)\n",
    "    #npz = np.load(model_file_name,allow_pickle=True)\n",
    "    #print(npz['arr_0'])\n",
    "    #print(npz['arr_1'])"
   ]
  },
  {
   "cell_type": "code",
   "execution_count": null,
   "metadata": {},
   "outputs": [],
   "source": []
  }
 ],
 "metadata": {
  "kernelspec": {
   "display_name": "Python 3",
   "language": "python",
   "name": "python3"
  },
  "language_info": {
   "codemirror_mode": {
    "name": "ipython",
    "version": 3
   },
   "file_extension": ".py",
   "mimetype": "text/x-python",
   "name": "python",
   "nbconvert_exporter": "python",
   "pygments_lexer": "ipython3",
   "version": "3.6.8"
  }
 },
 "nbformat": 4,
 "nbformat_minor": 2
}
