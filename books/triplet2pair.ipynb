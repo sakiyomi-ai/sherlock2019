{
 "cells": [
  {
   "cell_type": "markdown",
   "metadata": {},
   "source": [
    "## Story Name"
   ]
  },
  {
   "cell_type": "code",
   "execution_count": 4,
   "metadata": {},
   "outputs": [],
   "source": [
    "story_names = [\"ACaseOfIdentity_formatted_S2\",\n",
    "                 \"CrookedMan_formatted_S2\",\n",
    "                 \"DancingMen_formatted_S2\",\n",
    "                 \"DevilsFoot_formatted_S2\",\n",
    "                 \"SpeckledBand_formatted_S2\"]"
   ]
  },
  {
   "cell_type": "code",
   "execution_count": 5,
   "metadata": {},
   "outputs": [],
   "source": [
    "class SherlockPoincareModelData:\n",
    "    \n",
    "    def __init__(self,data_base:str):\n",
    "        self.in_file_name = data_base + \".txt\"\n",
    "        self.out_file_name = data_base + \"-pair.txt\"\n",
    "        self.vocab_file_name = data_base + \"-poincare-label.tsv\"\n",
    "\n",
    "        #print(self.in_file_name)\n",
    "        #print(self.out_file_name)\n",
    "        #print(self.vocab_file_name)\n",
    "        \n",
    "        self._writeData(self._load_data())\n",
    "\n",
    "    def _load_data(self):\n",
    "        x = {}\n",
    "        with open(self.in_file_name, \"r\") as f:\n",
    "            for line in f:\n",
    "                line = line.replace(\".\",\"\")\n",
    "                tokens = line.rstrip(\"\\n\").split(\",\")\n",
    "                key = tokens[0]\n",
    "                val = x.get(key)\n",
    "                if (val == None):\n",
    "                    x[key] = [tokens]\n",
    "                else:\n",
    "                    val.append(tokens)\n",
    "        return x\n",
    "    \n",
    "    def _writeData(self,data):\n",
    "        words = {}\n",
    "        with open(self.out_file_name, \"w\") as f:\n",
    "            for key in data:\n",
    "                for line in data[key]:\n",
    "                    f.write(line[0] + \"\\t\" + line[1] + \"\\n\")\n",
    "                    f.write(line[1] + \"\\t\" + line[2] + \"\\n\")\n",
    "                    f.write(line[0] + \"\\t\" + line[2] + \"\\n\")\n",
    "                \n",
    "                    for word in line:\n",
    "                        v = words.get(word)\n",
    "                        if (v == None):\n",
    "                            words[word] = 1\n",
    "                        else:\n",
    "                            words[word] = v + 1\n",
    "\n",
    "        with open(self.vocab_file_name, \"w\") as f:\n",
    "            for key in words:\n",
    "                #print(key + \"->\" + str(words[key]))\n",
    "                f.write(key)\n",
    "                f.write(\"\\n\")"
   ]
  },
  {
   "cell_type": "code",
   "execution_count": 6,
   "metadata": {},
   "outputs": [
    {
     "name": "stdout",
     "output_type": "stream",
     "text": [
      "================> ACaseOfIdentity_formatted_S2\n",
      "================> CrookedMan_formatted_S2\n",
      "================> DancingMen_formatted_S2\n",
      "================> DevilsFoot_formatted_S2\n",
      "================> SpeckledBand_formatted_S2\n"
     ]
    }
   ],
   "source": [
    "for story_name in story_names:\n",
    "    print(\"================> \" + story_name)\n",
    "    SherlockPoincareModelData(story_name)\n"
   ]
  },
  {
   "cell_type": "code",
   "execution_count": null,
   "metadata": {},
   "outputs": [],
   "source": []
  }
 ],
 "metadata": {
  "kernelspec": {
   "display_name": "Python 3",
   "language": "python",
   "name": "python3"
  },
  "language_info": {
   "codemirror_mode": {
    "name": "ipython",
    "version": 3
   },
   "file_extension": ".py",
   "mimetype": "text/x-python",
   "name": "python",
   "nbconvert_exporter": "python",
   "pygments_lexer": "ipython3",
   "version": "3.6.8"
  }
 },
 "nbformat": 4,
 "nbformat_minor": 2
}
