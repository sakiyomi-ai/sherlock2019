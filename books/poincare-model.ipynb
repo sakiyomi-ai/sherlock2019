{
 "cells": [
  {
   "cell_type": "markdown",
   "metadata": {},
   "source": [
    "## ライブラリ"
   ]
  },
  {
   "cell_type": "code",
   "execution_count": 1,
   "metadata": {},
   "outputs": [
    {
     "name": "stdout",
     "output_type": "stream",
     "text": [
      "Requirement already satisfied: gensim in /usr/local/lib/python3.6/dist-packages (3.8.1)\n",
      "Requirement already satisfied: numpy>=1.11.3 in /usr/local/lib/python3.6/dist-packages (from gensim) (1.17.2)\n",
      "Requirement already satisfied: six>=1.5.0 in /usr/lib/python3/dist-packages (from gensim) (1.11.0)\n",
      "Requirement already satisfied: smart-open>=1.8.1 in /usr/local/lib/python3.6/dist-packages (from gensim) (1.9.0)\n",
      "Requirement already satisfied: scipy>=0.18.1 in /usr/local/lib/python3.6/dist-packages (from gensim) (1.3.2)\n",
      "Requirement already satisfied: boto>=2.32 in /usr/local/lib/python3.6/dist-packages (from smart-open>=1.8.1->gensim) (2.49.0)\n",
      "Requirement already satisfied: boto3 in /usr/local/lib/python3.6/dist-packages (from smart-open>=1.8.1->gensim) (1.10.28)\n",
      "Requirement already satisfied: requests in /usr/local/lib/python3.6/dist-packages (from smart-open>=1.8.1->gensim) (2.22.0)\n",
      "Requirement already satisfied: s3transfer<0.3.0,>=0.2.0 in /usr/local/lib/python3.6/dist-packages (from boto3->smart-open>=1.8.1->gensim) (0.2.1)\n",
      "Requirement already satisfied: jmespath<1.0.0,>=0.7.1 in /usr/local/lib/python3.6/dist-packages (from boto3->smart-open>=1.8.1->gensim) (0.9.4)\n",
      "Requirement already satisfied: botocore<1.14.0,>=1.13.28 in /usr/local/lib/python3.6/dist-packages (from boto3->smart-open>=1.8.1->gensim) (1.13.28)\n",
      "Requirement already satisfied: idna<2.9,>=2.5 in /usr/lib/python3/dist-packages (from requests->smart-open>=1.8.1->gensim) (2.6)\n",
      "Requirement already satisfied: urllib3!=1.25.0,!=1.25.1,<1.26,>=1.21.1 in /usr/local/lib/python3.6/dist-packages (from requests->smart-open>=1.8.1->gensim) (1.25.7)\n",
      "Requirement already satisfied: certifi>=2017.4.17 in /usr/local/lib/python3.6/dist-packages (from requests->smart-open>=1.8.1->gensim) (2019.11.28)\n",
      "Requirement already satisfied: chardet<3.1.0,>=3.0.2 in /usr/local/lib/python3.6/dist-packages (from requests->smart-open>=1.8.1->gensim) (3.0.4)\n",
      "Requirement already satisfied: docutils<0.16,>=0.10 in /usr/local/lib/python3.6/dist-packages (from botocore<1.14.0,>=1.13.28->boto3->smart-open>=1.8.1->gensim) (0.15.2)\n",
      "Requirement already satisfied: python-dateutil<2.8.1,>=2.1; python_version >= \"2.7\" in /usr/local/lib/python3.6/dist-packages (from botocore<1.14.0,>=1.13.28->boto3->smart-open>=1.8.1->gensim) (2.8.0)\n",
      "Requirement already satisfied: plotly in /usr/local/lib/python3.6/dist-packages (4.3.0)\n",
      "Requirement already satisfied: six in /usr/lib/python3/dist-packages (from plotly) (1.11.0)\n",
      "Requirement already satisfied: retrying>=1.3.3 in /usr/local/lib/python3.6/dist-packages (from plotly) (1.3.3)\n",
      "Requirement already satisfied: pandas in /usr/local/lib/python3.6/dist-packages (0.25.3)\n",
      "Requirement already satisfied: pytz>=2017.2 in /usr/local/lib/python3.6/dist-packages (from pandas) (2019.3)\n",
      "Requirement already satisfied: python-dateutil>=2.6.1 in /usr/local/lib/python3.6/dist-packages (from pandas) (2.8.0)\n",
      "Requirement already satisfied: numpy>=1.13.3 in /usr/local/lib/python3.6/dist-packages (from pandas) (1.17.2)\n",
      "Requirement already satisfied: six>=1.5 in /usr/lib/python3/dist-packages (from python-dateutil>=2.6.1->pandas) (1.11.0)\n"
     ]
    }
   ],
   "source": [
    "!pip install gensim\n",
    "!pip install plotly\n",
    "!pip install pandas"
   ]
  },
  {
   "cell_type": "code",
   "execution_count": 2,
   "metadata": {},
   "outputs": [],
   "source": [
    "from gensim.models.poincare import PoincareModel\n",
    "from IPython import display\n",
    "import pandas as pd"
   ]
  },
  {
   "cell_type": "markdown",
   "metadata": {},
   "source": [
    "## Story Name"
   ]
  },
  {
   "cell_type": "code",
   "execution_count": 6,
   "metadata": {},
   "outputs": [],
   "source": [
    "story_names = [\"ACaseOfIdentity_formatted_S2\",\n",
    "                 \"CrookedMan_formatted_S2\",\n",
    "                 \"DancingMen_formatted_S2\",\n",
    "                 \"DevilsFoot_formatted_S2\",\n",
    "                 \"SpeckledBand_formatted_S2\"]"
   ]
  },
  {
   "cell_type": "code",
   "execution_count": 7,
   "metadata": {},
   "outputs": [],
   "source": []
  },
  {
   "cell_type": "code",
   "execution_count": 8,
   "metadata": {},
   "outputs": [],
   "source": [
    "vector_size = 3\n",
    "#vector_size = 5\n",
    "negative = 20\n",
    "epochs = 100"
   ]
  },
  {
   "cell_type": "markdown",
   "metadata": {},
   "source": [
    "## TEST"
   ]
  },
  {
   "cell_type": "markdown",
   "metadata": {},
   "source": [
    "train_data = [\n",
    "    ('Software Engineer', 'Engineer'),\n",
    "    ('Senior Software Engineer', 'Software Engineer'),\n",
    "    ('Web Programmer', 'Programmer'),\n",
    "    ('UI Designer', 'Designer'),\n",
    "    ('エンジニア', 'Engineer'),\n",
    "    ('Engineer', 'エンジニア'),\n",
    "    ('Engineer', 'Programmer'),\n",
    "]"
   ]
  },
  {
   "cell_type": "markdown",
   "metadata": {},
   "source": [
    "model = PoincareModel(train_data, size=2, negative=2)\n",
    "model.train(epochs=500)"
   ]
  },
  {
   "cell_type": "markdown",
   "metadata": {},
   "source": [
    "tree = set(train_data)\n",
    "figure_title = ''\n",
    "node_labels = train_data\n",
    "poincare_2d_visualization(model, tree, figure_title, num_nodes=50, show_node_labels=node_labels)"
   ]
  },
  {
   "cell_type": "markdown",
   "metadata": {},
   "source": [
    "## Poincare Embeding"
   ]
  },
  {
   "cell_type": "code",
   "execution_count": 9,
   "metadata": {},
   "outputs": [],
   "source": [
    "class PoincareEmbeding:\n",
    "\n",
    "    def __init__(self, file_base: str,vector_size:int, negative:int, epochs:int):\n",
    "        self.vector_size = vector_size\n",
    "        self.epochs = epochs\n",
    "        self.negative = negative\n",
    "        \n",
    "        self.data_file_name = file_base + \"-pair.txt\"\n",
    "        self.tsv_label_file_name = file_base + \"-poincare-label.tsv\"\n",
    "\n",
    "        t = file_base + \"-poincare-\" + str(self.vector_size)\n",
    "        self.model_file_name = t + \"d.model\"\n",
    "        self.tsv_vector_file_name = t + \"d-vector.tsv\"\n",
    "\n",
    "        print(self.data_file_name)\n",
    "        print(self.tsv_label_file_name)\n",
    "        print(self.model_file_name)\n",
    "        print(self.tsv_vector_file_name)\n",
    "        \n",
    "        self.train_data = [(a, b) for a, b in pd.read_csv(self.data_file_name, \n",
    "                                                          header=None, \n",
    "                                                          delimiter='\\t').values]\n",
    "        \n",
    "        model = PoincareModel(self.train_data, \n",
    "                      size=self.vector_size, \n",
    "                      negative=self.negative)\n",
    "        model.train(epochs=self.epochs)\n",
    "        model.save(self.model_file_name)\n",
    "        self._makeVector(model)\n",
    "    \n",
    "    def _makeVector(self, model):\n",
    "        d = pd.read_csv(self.tsv_label_file_name, \n",
    "                        header=None, \n",
    "                        delimiter='\\t').values\n",
    "        node_labels = d.reshape(d.shape[0]).tolist()\n",
    "\n",
    "        with open(self.tsv_vector_file_name, 'w') as f:\n",
    "            for node in node_labels:\n",
    "                y = []\n",
    "                t = model.kv.word_vec(node)\n",
    "                for v in t:\n",
    "                    y.append(str(v))\n",
    "                f.write('\\t'.join(y))\n",
    "                f.write('\\n')\n"
   ]
  },
  {
   "cell_type": "code",
   "execution_count": 10,
   "metadata": {
    "scrolled": false
   },
   "outputs": [
    {
     "name": "stdout",
     "output_type": "stream",
     "text": [
      "====> DevilsFoot_formatted_S2\n",
      "DevilsFoot_formatted_S2-pair.txt\n",
      "DevilsFoot_formatted_S2-poincare-label.tsv\n",
      "DevilsFoot_formatted_S2-poincare-3d.model\n",
      "DevilsFoot_formatted_S2-poincare-3d-vector.tsv\n",
      "====> SpeckledBand_formatted_S2\n",
      "SpeckledBand_formatted_S2-pair.txt\n",
      "SpeckledBand_formatted_S2-poincare-label.tsv\n",
      "SpeckledBand_formatted_S2-poincare-3d.model\n",
      "SpeckledBand_formatted_S2-poincare-3d-vector.tsv\n"
     ]
    }
   ],
   "source": [
    "for story_name in story_names:\n",
    "    print(\"====> \" + story_name)\n",
    "    PoincareEmbeding(story_name, vector_size=vector_size, negative=negative, epochs=epochs)"
   ]
  },
  {
   "cell_type": "code",
   "execution_count": 7,
   "metadata": {},
   "outputs": [],
   "source": []
  },
  {
   "cell_type": "code",
   "execution_count": null,
   "metadata": {},
   "outputs": [],
   "source": []
  }
 ],
 "metadata": {
  "kernelspec": {
   "display_name": "Python 3",
   "language": "python",
   "name": "python3"
  },
  "language_info": {
   "codemirror_mode": {
    "name": "ipython",
    "version": 3
   },
   "file_extension": ".py",
   "mimetype": "text/x-python",
   "name": "python",
   "nbconvert_exporter": "python",
   "pygments_lexer": "ipython3",
   "version": "3.6.8"
  }
 },
 "nbformat": 4,
 "nbformat_minor": 2
}
